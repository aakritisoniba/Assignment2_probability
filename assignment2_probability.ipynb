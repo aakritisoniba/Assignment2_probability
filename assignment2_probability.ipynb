{
 "cells": [
  {
   "cell_type": "markdown",
   "id": "9b91666b",
   "metadata": {},
   "source": [
    "Probability\n",
    " "
   ]
  },
  {
   "cell_type": "code",
   "execution_count": null,
   "id": "fb9a5f36",
   "metadata": {},
   "outputs": [],
   "source": [
    "import random\n",
    "\n",
    "def simulate_coin_tosses(n=10000):\n",
    "    heads = 0\n",
    "    for _ in range(n):\n",
    "        if random.choice(['H', 'T']) == 'H':\n",
    "            heads += 1\n",
    "    tails = n - heads\n",
    "    print(f\"Probability of Heads: {heads/n}\")\n",
    "    print(f\"Probability of Tails: {tails/n}\")\n",
    "\n",
    "simulate_coin_tosses()"
   ]
  },
  {
   "cell_type": "markdown",
   "id": "5a0ff906",
   "metadata": {},
   "source": [
    " This simulates tossing a coin 10,000 times using random choices, and counts how often heads or tails will appear to calculate the experimental probability."
   ]
  },
  {
   "cell_type": "code",
   "execution_count": null,
   "id": "f346493d",
   "metadata": {},
   "outputs": [],
   "source": [
    "def simulate_dice_rolls(trials=10000):\n",
    "    count_sum_7 = 0\n",
    "    for _ in range(trials):\n",
    "        die1 = random.randint(1, 6)\n",
    "        die2 = random.randint(1, 6)\n",
    "        if die1 + die2 == 7:\n",
    "            count_sum_7 += 1\n",
    "    print(f\"Probability of sum = 7: {count_sum_7/trials}\")\n",
    "\n",
    "simulate_dice_rolls()"
   ]
  },
  {
   "cell_type": "markdown",
   "id": "fdb5e490",
   "metadata": {},
   "source": [
    "This will roll two dice repeatedly and counts how many times the sum is 7."
   ]
  },
  {
   "cell_type": "code",
   "execution_count": null,
   "id": "7764825c",
   "metadata": {},
   "outputs": [],
   "source": [
    "def estimate_at_least_one_six(trials=10000):\n",
    "    success = 0\n",
    "    for _ in range(trials):\n",
    "        if 6 in [random.randint(1, 6) for _ in range(10)]:\n",
    "            success += 1\n",
    "    print(f\"Probability of at least one 6 in 10 rolls: {success/trials}\")\n",
    "\n",
    "estimate_at_least_one_six()"
   ]
  },
  {
   "cell_type": "markdown",
   "id": "30ec69a2",
   "metadata": {},
   "source": [
    " Rolls the dice 10 times for each trial and checks if at least one out of all roll is 6."
   ]
  },
  {
   "cell_type": "code",
   "execution_count": null,
   "id": "bf395a90",
   "metadata": {},
   "outputs": [],
   "source": [
    "def simulate_ball_draws(trials=1000):\n",
    "    colors = ['red']*5 + ['green']*7 + ['blue']*8\n",
    "    previous_color = None\n",
    "    blue_then_red = 0\n",
    "    total_after_blue = 0\n",
    "\n",
    "    for _ in range(trials):\n",
    "        current = random.choice(colors)\n",
    "        if previous_color == 'blue':\n",
    "            total_after_blue += 1\n",
    "            if current == 'red':\n",
    "                blue_then_red += 1\n",
    "        previous_color = current\n",
    "\n",
    "    if total_after_blue > 0:\n",
    "        conditional_prob = blue_then_red / total_after_blue\n",
    "        print(f\"P(Red | Previous was Blue): {conditional_prob}\")\n",
    "    else:\n",
    "        print(\"Not enough data for conditional probability\")\n",
    "\n",
    "simulate_ball_draws()"
   ]
  },
  {
   "cell_type": "markdown",
   "id": "b458fedf",
   "metadata": {},
   "source": [
    " This will simulate drawing a ball and putting it back 1000 times, tracking when a red ball follows a blue one."
   ]
  },
  {
   "cell_type": "code",
   "execution_count": null,
   "id": "b9c43ac7",
   "metadata": {},
   "outputs": [],
   "source": [
    "import numpy as np\n",
    "\n",
    "def discrete_rv_stats():\n",
    "    sample = np.random.choice([1, 2, 3], size=1000, p=[0.25, 0.35, 0.4])\n",
    "    mean = np.mean(sample)\n",
    "    variance = np.var(sample)\n",
    "    std_dev = np.std(sample)\n",
    "    print(f\"Mean: {mean}, Variance: {variance}, Standard Deviation: {std_dev}\")\n",
    "\n",
    "discrete_rv_stats()"
   ]
  },
  {
   "cell_type": "markdown",
   "id": "a69bd706",
   "metadata": {},
   "source": [
    " We will generate 1000 random values from a custom discrete distribution and calculate statistical properties."
   ]
  },
  {
   "cell_type": "code",
   "execution_count": null,
   "id": "19b984e9",
   "metadata": {},
   "outputs": [],
   "source": [
    "import matplotlib.pyplot as plt\n",
    "import seaborn as sns\n",
    "\n",
    "def exponential_distribution_sim():\n",
    "    data = np.random.exponential(scale=5, size=2000)\n",
    "    sns.histplot(data, kde=True, stat='density', bins=30, color='skyblue')\n",
    "    plt.title('Exponential Distribution with PDF Overlay')\n",
    "    plt.xlabel('Value')\n",
    "    plt.ylabel('Density')\n",
    "    plt.show()\n",
    "\n",
    "exponential_distribution_sim()"
   ]
  },
  {
   "cell_type": "markdown",
   "id": "f8a50dcf",
   "metadata": {},
   "source": [
    " Simulates 2000 samples from an exponential distribution and overlays a probability density function on the histogram."
   ]
  },
  {
   "cell_type": "code",
   "execution_count": null,
   "id": "7f0026b9",
   "metadata": {},
   "outputs": [],
   "source": [
    "def simulate_clt():\n",
    "    uniform_data = np.random.uniform(0, 1, 10000)\n",
    "    sample_means = [np.mean(np.random.choice(uniform_data, size=30)) for _ in range(1000)]\n",
    "\n",
    "    # plot original uniform distribution\n",
    "    plt.subplot(1, 2, 1)\n",
    "    sns.histplot(uniform_data, bins=30, color='lightgreen')\n",
    "    plt.title('Uniform Distribution')\n",
    "\n",
    "    # plot distribution of sample means\n",
    "    plt.subplot(1, 2, 2)\n",
    "    sns.histplot(sample_means, bins=30, color='orange', kde=True)\n",
    "    plt.title('Distribution of Sample Means (CLT)')\n",
    "\n",
    "    plt.tight_layout()\n",
    "    plt.show()\n",
    "\n",
    "simulate_clt()"
   ]
  },
  {
   "cell_type": "markdown",
   "id": "ddf9cb4f",
   "metadata": {},
   "source": [
    " This will show how the distribution of sample means approaches normal distribution (i.e. bell curve), even when the original data is uniform."
   ]
  }
 ],
 "metadata": {},
 "nbformat": 4,
 "nbformat_minor": 5
}
